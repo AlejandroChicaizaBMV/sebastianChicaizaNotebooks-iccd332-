{
 "cells": [
  {
   "cell_type": "markdown",
   "id": "8598c4ee-8948-4694-9520-730514c0997f",
   "metadata": {},
   "source": [
    "## Análisis de Datos de Temperatura\n",
    "\n",
    "- Fecha: 2024-08-06\n",
    "- Coder: LeninGF\n",
    "- Objetivo: realizar la isnpección sobre los datos recolectados a través del API de openweather y usando la configuración de Linux para el registro de los mismos"
   ]
  },
  {
   "cell_type": "code",
   "execution_count": 1,
   "id": "f0d0bfc2-34a5-4757-a1ec-9df5a0bfeda0",
   "metadata": {},
   "outputs": [
    {
     "data": {
      "text/plain": [
       "['clima-quito-hoy-etl.csv',\n",
       " '.ipynb_checkpoints',\n",
       " 'get-weather.sh:Zone.Identifier',\n",
       " 'main.py~',\n",
       " 'clima-berlin-hoy.csv',\n",
       " 'main.py:Zone.Identifier',\n",
       " '.git',\n",
       " 'output.log',\n",
       " 'CityTemperatureAnalysis.ipynb:Zone.Identifier',\n",
       " 'main.py',\n",
       " 'get-weather.sh',\n",
       " 'CityTemperatureAnalysis.ipynb',\n",
       " 'weather-site']"
      ]
     },
     "execution_count": 1,
     "metadata": {},
     "output_type": "execute_result"
    }
   ],
   "source": [
    "import os\n",
    "import pandas as pd\n",
    "os.listdir(os.getcwd())"
   ]
  },
  {
   "cell_type": "markdown",
   "id": "34dc994b-a482-4547-ba89-103c6ba239ff",
   "metadata": {},
   "source": [
    "### Lectura de Datos\n",
    "Lectura del archivo csv con *with open* debido a que openweather coloca valores sobre la lluvia y la nieve cuando éstos están disponibles por lo que en este caso he obtenido 30 campos de lectura obviando los referidos. Esto puede solventarse incluyendo los campos con valor NaN por defecto en el programa de Python para captura de información"
   ]
  },
  {
   "cell_type": "code",
   "execution_count": 2,
   "id": "700273d9-c22f-4ea6-ab55-7dc6bdc9153a",
   "metadata": {},
   "outputs": [
    {
     "data": {
      "text/plain": [
       "14"
      ]
     },
     "execution_count": 2,
     "metadata": {},
     "output_type": "execute_result"
    }
   ],
   "source": [
    "import csv\n",
    "csv_file = 'clima-berlin-hoy.csv'\n",
    "filtered_rows = []\n",
    "with open(csv_file, 'r') as f:\n",
    "    reader = csv.reader(f)\n",
    "    for row in reader:\n",
    "        if len(row)==29:\n",
    "            filtered_rows.append(row)\n",
    "len(filtered_rows)"
   ]
  },
  {
   "cell_type": "code",
   "execution_count": 3,
   "id": "66dc76fd-502b-4ad9-b899-abe081958038",
   "metadata": {},
   "outputs": [
    {
     "name": "stdout",
     "output_type": "stream",
     "text": [
      "29 13\n"
     ]
    }
   ],
   "source": [
    "header = filtered_rows[0]\n",
    "data = filtered_rows[1:]\n",
    "print(len(header), len(data))"
   ]
  },
  {
   "cell_type": "code",
   "execution_count": 4,
   "id": "533b2090-b313-4088-b0cd-1f150f4dd827",
   "metadata": {},
   "outputs": [
    {
     "data": {
      "text/plain": [
       "(13, 29)"
      ]
     },
     "execution_count": 4,
     "metadata": {},
     "output_type": "execute_result"
    }
   ],
   "source": [
    "# df = pd.read_csv('clima-berlin-hoy.csv')\n",
    "df = pd.DataFrame(data, columns=header)\n",
    "df.shape"
   ]
  },
  {
   "cell_type": "code",
   "execution_count": 5,
   "id": "85d521b4-b2da-4fba-9d01-88ced55ccc2f",
   "metadata": {},
   "outputs": [
    {
     "data": {
      "text/html": [
       "<div>\n",
       "<style scoped>\n",
       "    .dataframe tbody tr th:only-of-type {\n",
       "        vertical-align: middle;\n",
       "    }\n",
       "\n",
       "    .dataframe tbody tr th {\n",
       "        vertical-align: top;\n",
       "    }\n",
       "\n",
       "    .dataframe thead th {\n",
       "        text-align: right;\n",
       "    }\n",
       "</style>\n",
       "<table border=\"1\" class=\"dataframe\">\n",
       "  <thead>\n",
       "    <tr style=\"text-align: right;\">\n",
       "      <th></th>\n",
       "      <th>dt</th>\n",
       "      <th>coord_lon</th>\n",
       "      <th>coord_lat</th>\n",
       "      <th>weather_0_id</th>\n",
       "      <th>weather_0_main</th>\n",
       "      <th>weather_0_description</th>\n",
       "      <th>weather_0_icon</th>\n",
       "      <th>base</th>\n",
       "      <th>main_temp</th>\n",
       "      <th>main_feels_like</th>\n",
       "      <th>...</th>\n",
       "      <th>wind_gust</th>\n",
       "      <th>clouds_all</th>\n",
       "      <th>sys_type</th>\n",
       "      <th>sys_id</th>\n",
       "      <th>sys_country</th>\n",
       "      <th>sys_sunset</th>\n",
       "      <th>timezone</th>\n",
       "      <th>id</th>\n",
       "      <th>name</th>\n",
       "      <th>cod</th>\n",
       "    </tr>\n",
       "  </thead>\n",
       "  <tbody>\n",
       "    <tr>\n",
       "      <th>10</th>\n",
       "      <td>2025-02-07 16:06:50</td>\n",
       "      <td>13.4</td>\n",
       "      <td>52.52</td>\n",
       "      <td>803</td>\n",
       "      <td>Clouds</td>\n",
       "      <td>broken clouds</td>\n",
       "      <td>04n</td>\n",
       "      <td>stations</td>\n",
       "      <td>2.62</td>\n",
       "      <td>-3.18</td>\n",
       "      <td>...</td>\n",
       "      <td></td>\n",
       "      <td>75</td>\n",
       "      <td>2</td>\n",
       "      <td>2011538</td>\n",
       "      <td>DE</td>\n",
       "      <td>1738944193</td>\n",
       "      <td>3600</td>\n",
       "      <td>6545310</td>\n",
       "      <td>Mitte</td>\n",
       "      <td>200</td>\n",
       "    </tr>\n",
       "    <tr>\n",
       "      <th>12</th>\n",
       "      <td>2025-02-07 16:06:56</td>\n",
       "      <td>13.4</td>\n",
       "      <td>52.52</td>\n",
       "      <td>803</td>\n",
       "      <td>Clouds</td>\n",
       "      <td>broken clouds</td>\n",
       "      <td>04n</td>\n",
       "      <td>stations</td>\n",
       "      <td>2.62</td>\n",
       "      <td>-3.18</td>\n",
       "      <td>...</td>\n",
       "      <td></td>\n",
       "      <td>75</td>\n",
       "      <td>2</td>\n",
       "      <td>2011538</td>\n",
       "      <td>DE</td>\n",
       "      <td>1738944193</td>\n",
       "      <td>3600</td>\n",
       "      <td>6545310</td>\n",
       "      <td>Mitte</td>\n",
       "      <td>200</td>\n",
       "    </tr>\n",
       "    <tr>\n",
       "      <th>7</th>\n",
       "      <td>2025-02-07 16:06:44</td>\n",
       "      <td>13.4</td>\n",
       "      <td>52.52</td>\n",
       "      <td>803</td>\n",
       "      <td>Clouds</td>\n",
       "      <td>broken clouds</td>\n",
       "      <td>04n</td>\n",
       "      <td>stations</td>\n",
       "      <td>2.62</td>\n",
       "      <td>-3.18</td>\n",
       "      <td>...</td>\n",
       "      <td></td>\n",
       "      <td>75</td>\n",
       "      <td>2</td>\n",
       "      <td>2011538</td>\n",
       "      <td>DE</td>\n",
       "      <td>1738944193</td>\n",
       "      <td>3600</td>\n",
       "      <td>6545310</td>\n",
       "      <td>Mitte</td>\n",
       "      <td>200</td>\n",
       "    </tr>\n",
       "    <tr>\n",
       "      <th>11</th>\n",
       "      <td>2025-02-07 16:06:52</td>\n",
       "      <td>13.4</td>\n",
       "      <td>52.52</td>\n",
       "      <td>803</td>\n",
       "      <td>Clouds</td>\n",
       "      <td>broken clouds</td>\n",
       "      <td>04n</td>\n",
       "      <td>stations</td>\n",
       "      <td>2.62</td>\n",
       "      <td>-3.18</td>\n",
       "      <td>...</td>\n",
       "      <td></td>\n",
       "      <td>75</td>\n",
       "      <td>2</td>\n",
       "      <td>2011538</td>\n",
       "      <td>DE</td>\n",
       "      <td>1738944193</td>\n",
       "      <td>3600</td>\n",
       "      <td>6545310</td>\n",
       "      <td>Mitte</td>\n",
       "      <td>200</td>\n",
       "    </tr>\n",
       "    <tr>\n",
       "      <th>2</th>\n",
       "      <td>2025-02-07 16:06:35</td>\n",
       "      <td>13.4</td>\n",
       "      <td>52.52</td>\n",
       "      <td>803</td>\n",
       "      <td>Clouds</td>\n",
       "      <td>broken clouds</td>\n",
       "      <td>04n</td>\n",
       "      <td>stations</td>\n",
       "      <td>2.62</td>\n",
       "      <td>-3.18</td>\n",
       "      <td>...</td>\n",
       "      <td></td>\n",
       "      <td>75</td>\n",
       "      <td>2</td>\n",
       "      <td>2011538</td>\n",
       "      <td>DE</td>\n",
       "      <td>1738944193</td>\n",
       "      <td>3600</td>\n",
       "      <td>6545310</td>\n",
       "      <td>Mitte</td>\n",
       "      <td>200</td>\n",
       "    </tr>\n",
       "  </tbody>\n",
       "</table>\n",
       "<p>5 rows × 29 columns</p>\n",
       "</div>"
      ],
      "text/plain": [
       "                     dt coord_lon coord_lat weather_0_id weather_0_main  \\\n",
       "10  2025-02-07 16:06:50      13.4     52.52          803         Clouds   \n",
       "12  2025-02-07 16:06:56      13.4     52.52          803         Clouds   \n",
       "7   2025-02-07 16:06:44      13.4     52.52          803         Clouds   \n",
       "11  2025-02-07 16:06:52      13.4     52.52          803         Clouds   \n",
       "2   2025-02-07 16:06:35      13.4     52.52          803         Clouds   \n",
       "\n",
       "   weather_0_description weather_0_icon      base main_temp main_feels_like  \\\n",
       "10         broken clouds            04n  stations      2.62           -3.18   \n",
       "12         broken clouds            04n  stations      2.62           -3.18   \n",
       "7          broken clouds            04n  stations      2.62           -3.18   \n",
       "11         broken clouds            04n  stations      2.62           -3.18   \n",
       "2          broken clouds            04n  stations      2.62           -3.18   \n",
       "\n",
       "    ... wind_gust clouds_all sys_type   sys_id sys_country  sys_sunset  \\\n",
       "10  ...                   75        2  2011538          DE  1738944193   \n",
       "12  ...                   75        2  2011538          DE  1738944193   \n",
       "7   ...                   75        2  2011538          DE  1738944193   \n",
       "11  ...                   75        2  2011538          DE  1738944193   \n",
       "2   ...                   75        2  2011538          DE  1738944193   \n",
       "\n",
       "   timezone       id   name  cod  \n",
       "10     3600  6545310  Mitte  200  \n",
       "12     3600  6545310  Mitte  200  \n",
       "7      3600  6545310  Mitte  200  \n",
       "11     3600  6545310  Mitte  200  \n",
       "2      3600  6545310  Mitte  200  \n",
       "\n",
       "[5 rows x 29 columns]"
      ]
     },
     "execution_count": 5,
     "metadata": {},
     "output_type": "execute_result"
    }
   ],
   "source": [
    "df.sample(5)"
   ]
  },
  {
   "cell_type": "markdown",
   "id": "c7b78457-4791-4ca8-8119-d80f8f4eded6",
   "metadata": {},
   "source": [
    "### Análisis de Datos\n",
    "- Se procede a realizar un plot de variables de interés según el tiempo capturado. La primera columna contiene la información del API sobre tiempo en formato **Timestamp**, misma que se puede convertir a **datetime**.\n",
    "- Debido al proceso utilizado para guardar los datos `dt` tiene como tipo de dato objeto por lo que es necesario convertirlo a entero. De igual manera existen otras variables capturadas que en este caso por la lectura con `with open` se detectan como object en vez de sus tipos de datos correctos\n"
   ]
  },
  {
   "cell_type": "code",
   "execution_count": 6,
   "id": "f26cfd90-e163-4b6a-9d46-c72950917ead",
   "metadata": {},
   "outputs": [
    {
     "name": "stdout",
     "output_type": "stream",
     "text": [
      "<class 'pandas.core.frame.DataFrame'>\n",
      "RangeIndex: 13 entries, 0 to 12\n",
      "Data columns (total 29 columns):\n",
      " #   Column                 Non-Null Count  Dtype \n",
      "---  ------                 --------------  ----- \n",
      " 0   dt                     13 non-null     object\n",
      " 1   coord_lon              13 non-null     object\n",
      " 2   coord_lat              13 non-null     object\n",
      " 3   weather_0_id           13 non-null     object\n",
      " 4   weather_0_main         13 non-null     object\n",
      " 5   weather_0_description  13 non-null     object\n",
      " 6   weather_0_icon         13 non-null     object\n",
      " 7   base                   13 non-null     object\n",
      " 8   main_temp              13 non-null     object\n",
      " 9   main_feels_like        13 non-null     object\n",
      " 10  main_temp_min          13 non-null     object\n",
      " 11  main_temp_max          13 non-null     object\n",
      " 12  main_pressure          13 non-null     object\n",
      " 13  main_humidity          13 non-null     object\n",
      " 14  main_sea_level         13 non-null     object\n",
      " 15  main_grnd_level        13 non-null     object\n",
      " 16  visibility             13 non-null     object\n",
      " 17  wind_speed             13 non-null     object\n",
      " 18  wind_deg               13 non-null     object\n",
      " 19  wind_gust              13 non-null     object\n",
      " 20  clouds_all             13 non-null     object\n",
      " 21  sys_type               13 non-null     object\n",
      " 22  sys_id                 13 non-null     object\n",
      " 23  sys_country            13 non-null     object\n",
      " 24  sys_sunset             13 non-null     object\n",
      " 25  timezone               13 non-null     object\n",
      " 26  id                     13 non-null     object\n",
      " 27  name                   13 non-null     object\n",
      " 28  cod                    13 non-null     object\n",
      "dtypes: object(29)\n",
      "memory usage: 3.1+ KB\n"
     ]
    }
   ],
   "source": [
    "df.info()"
   ]
  },
  {
   "cell_type": "code",
   "execution_count": 7,
   "id": "67325379-1ad6-40d6-a46e-9d980005837e",
   "metadata": {},
   "outputs": [],
   "source": [
    "#df.dt = df.dt.astype(int)\n",
    "#df.sys_sunrise = df.sys_sunrise.astype(int)\n",
    "df.sys_sunset = df.sys_sunset.astype(int)\n",
    "for column in df.columns:\n",
    "    try:\n",
    "        df[column] = pd.to_numeric(df[column])\n",
    "    except ValueError:\n",
    "        next"
   ]
  },
  {
   "cell_type": "code",
   "execution_count": 8,
   "id": "86a5941b-e1dc-44a8-925e-6a000d14e6bf",
   "metadata": {},
   "outputs": [
    {
     "name": "stdout",
     "output_type": "stream",
     "text": [
      "<class 'pandas.core.frame.DataFrame'>\n",
      "RangeIndex: 13 entries, 0 to 12\n",
      "Data columns (total 29 columns):\n",
      " #   Column                 Non-Null Count  Dtype  \n",
      "---  ------                 --------------  -----  \n",
      " 0   dt                     13 non-null     object \n",
      " 1   coord_lon              13 non-null     float64\n",
      " 2   coord_lat              13 non-null     float64\n",
      " 3   weather_0_id           13 non-null     int64  \n",
      " 4   weather_0_main         13 non-null     object \n",
      " 5   weather_0_description  13 non-null     object \n",
      " 6   weather_0_icon         13 non-null     object \n",
      " 7   base                   13 non-null     object \n",
      " 8   main_temp              13 non-null     float64\n",
      " 9   main_feels_like        13 non-null     float64\n",
      " 10  main_temp_min          13 non-null     float64\n",
      " 11  main_temp_max          13 non-null     float64\n",
      " 12  main_pressure          13 non-null     int64  \n",
      " 13  main_humidity          13 non-null     int64  \n",
      " 14  main_sea_level         13 non-null     int64  \n",
      " 15  main_grnd_level        13 non-null     int64  \n",
      " 16  visibility             13 non-null     int64  \n",
      " 17  wind_speed             13 non-null     float64\n",
      " 18  wind_deg               13 non-null     int64  \n",
      " 19  wind_gust              0 non-null      float64\n",
      " 20  clouds_all             13 non-null     int64  \n",
      " 21  sys_type               13 non-null     int64  \n",
      " 22  sys_id                 13 non-null     int64  \n",
      " 23  sys_country            13 non-null     object \n",
      " 24  sys_sunset             13 non-null     int64  \n",
      " 25  timezone               13 non-null     int64  \n",
      " 26  id                     13 non-null     int64  \n",
      " 27  name                   13 non-null     object \n",
      " 28  cod                    13 non-null     int64  \n",
      "dtypes: float64(8), int64(14), object(7)\n",
      "memory usage: 3.1+ KB\n"
     ]
    }
   ],
   "source": [
    "df.info()"
   ]
  },
  {
   "cell_type": "code",
   "execution_count": 26,
   "id": "33a57a27-7d27-43a0-a73e-f57d2e545a34",
   "metadata": {},
   "outputs": [
    {
     "ename": "TypeError",
     "evalue": "'str' object cannot be interpreted as an integer",
     "output_type": "error",
     "traceback": [
      "\u001b[0;31m---------------------------------------------------------------------------\u001b[0m",
      "\u001b[0;31mTypeError\u001b[0m                                 Traceback (most recent call last)",
      "Cell \u001b[0;32mIn[26], line 3\u001b[0m\n\u001b[1;32m      1\u001b[0m \u001b[38;5;28;01mfrom\u001b[39;00m\u001b[38;5;250m \u001b[39m\u001b[38;5;21;01mdatetime\u001b[39;00m\u001b[38;5;250m \u001b[39m\u001b[38;5;28;01mimport\u001b[39;00m datetime\n\u001b[1;32m      2\u001b[0m df_etl \u001b[38;5;241m=\u001b[39m df\u001b[38;5;241m.\u001b[39mcopy()\n\u001b[0;32m----> 3\u001b[0m df_etl\u001b[38;5;241m.\u001b[39mdt \u001b[38;5;241m=\u001b[39m \u001b[43mdf\u001b[49m\u001b[38;5;241;43m.\u001b[39;49m\u001b[43mdt\u001b[49m\u001b[38;5;241;43m.\u001b[39;49m\u001b[43mapply\u001b[49m\u001b[43m(\u001b[49m\u001b[38;5;28;43;01mlambda\u001b[39;49;00m\u001b[43m \u001b[49m\u001b[43mx\u001b[49m\u001b[43m:\u001b[49m\u001b[43m \u001b[49m\u001b[43mdatetime\u001b[49m\u001b[38;5;241;43m.\u001b[39;49m\u001b[43mfromtimestamp\u001b[49m\u001b[43m(\u001b[49m\u001b[43mx\u001b[49m\u001b[43m)\u001b[49m\u001b[43m)\u001b[49m\n\u001b[1;32m      4\u001b[0m \u001b[38;5;66;03m#df_etl.sys_sunrise = df.sys_sunrise.apply(lambda x: datetime.fromtimestamp(x))\u001b[39;00m\n\u001b[1;32m      5\u001b[0m df_etl\u001b[38;5;241m.\u001b[39msys_sunset \u001b[38;5;241m=\u001b[39m df\u001b[38;5;241m.\u001b[39msys_sunset\u001b[38;5;241m.\u001b[39mapply(\u001b[38;5;28;01mlambda\u001b[39;00m x: datetime\u001b[38;5;241m.\u001b[39mfromtimestamp(x))\n",
      "File \u001b[0;32m~/miniforge3/envs/iccd332/lib/python3.11/site-packages/pandas/core/series.py:4924\u001b[0m, in \u001b[0;36mSeries.apply\u001b[0;34m(self, func, convert_dtype, args, by_row, **kwargs)\u001b[0m\n\u001b[1;32m   4789\u001b[0m \u001b[38;5;28;01mdef\u001b[39;00m\u001b[38;5;250m \u001b[39m\u001b[38;5;21mapply\u001b[39m(\n\u001b[1;32m   4790\u001b[0m     \u001b[38;5;28mself\u001b[39m,\n\u001b[1;32m   4791\u001b[0m     func: AggFuncType,\n\u001b[0;32m   (...)\u001b[0m\n\u001b[1;32m   4796\u001b[0m     \u001b[38;5;241m*\u001b[39m\u001b[38;5;241m*\u001b[39mkwargs,\n\u001b[1;32m   4797\u001b[0m ) \u001b[38;5;241m-\u001b[39m\u001b[38;5;241m>\u001b[39m DataFrame \u001b[38;5;241m|\u001b[39m Series:\n\u001b[1;32m   4798\u001b[0m \u001b[38;5;250m    \u001b[39m\u001b[38;5;124;03m\"\"\"\u001b[39;00m\n\u001b[1;32m   4799\u001b[0m \u001b[38;5;124;03m    Invoke function on values of Series.\u001b[39;00m\n\u001b[1;32m   4800\u001b[0m \n\u001b[0;32m   (...)\u001b[0m\n\u001b[1;32m   4915\u001b[0m \u001b[38;5;124;03m    dtype: float64\u001b[39;00m\n\u001b[1;32m   4916\u001b[0m \u001b[38;5;124;03m    \"\"\"\u001b[39;00m\n\u001b[1;32m   4917\u001b[0m     \u001b[38;5;28;01mreturn\u001b[39;00m \u001b[43mSeriesApply\u001b[49m\u001b[43m(\u001b[49m\n\u001b[1;32m   4918\u001b[0m \u001b[43m        \u001b[49m\u001b[38;5;28;43mself\u001b[39;49m\u001b[43m,\u001b[49m\n\u001b[1;32m   4919\u001b[0m \u001b[43m        \u001b[49m\u001b[43mfunc\u001b[49m\u001b[43m,\u001b[49m\n\u001b[1;32m   4920\u001b[0m \u001b[43m        \u001b[49m\u001b[43mconvert_dtype\u001b[49m\u001b[38;5;241;43m=\u001b[39;49m\u001b[43mconvert_dtype\u001b[49m\u001b[43m,\u001b[49m\n\u001b[1;32m   4921\u001b[0m \u001b[43m        \u001b[49m\u001b[43mby_row\u001b[49m\u001b[38;5;241;43m=\u001b[39;49m\u001b[43mby_row\u001b[49m\u001b[43m,\u001b[49m\n\u001b[1;32m   4922\u001b[0m \u001b[43m        \u001b[49m\u001b[43margs\u001b[49m\u001b[38;5;241;43m=\u001b[39;49m\u001b[43margs\u001b[49m\u001b[43m,\u001b[49m\n\u001b[1;32m   4923\u001b[0m \u001b[43m        \u001b[49m\u001b[43mkwargs\u001b[49m\u001b[38;5;241;43m=\u001b[39;49m\u001b[43mkwargs\u001b[49m\u001b[43m,\u001b[49m\n\u001b[0;32m-> 4924\u001b[0m \u001b[43m    \u001b[49m\u001b[43m)\u001b[49m\u001b[38;5;241;43m.\u001b[39;49m\u001b[43mapply\u001b[49m\u001b[43m(\u001b[49m\u001b[43m)\u001b[49m\n",
      "File \u001b[0;32m~/miniforge3/envs/iccd332/lib/python3.11/site-packages/pandas/core/apply.py:1427\u001b[0m, in \u001b[0;36mSeriesApply.apply\u001b[0;34m(self)\u001b[0m\n\u001b[1;32m   1424\u001b[0m     \u001b[38;5;28;01mreturn\u001b[39;00m \u001b[38;5;28mself\u001b[39m\u001b[38;5;241m.\u001b[39mapply_compat()\n\u001b[1;32m   1426\u001b[0m \u001b[38;5;66;03m# self.func is Callable\u001b[39;00m\n\u001b[0;32m-> 1427\u001b[0m \u001b[38;5;28;01mreturn\u001b[39;00m \u001b[38;5;28;43mself\u001b[39;49m\u001b[38;5;241;43m.\u001b[39;49m\u001b[43mapply_standard\u001b[49m\u001b[43m(\u001b[49m\u001b[43m)\u001b[49m\n",
      "File \u001b[0;32m~/miniforge3/envs/iccd332/lib/python3.11/site-packages/pandas/core/apply.py:1507\u001b[0m, in \u001b[0;36mSeriesApply.apply_standard\u001b[0;34m(self)\u001b[0m\n\u001b[1;32m   1501\u001b[0m \u001b[38;5;66;03m# row-wise access\u001b[39;00m\n\u001b[1;32m   1502\u001b[0m \u001b[38;5;66;03m# apply doesn't have a `na_action` keyword and for backward compat reasons\u001b[39;00m\n\u001b[1;32m   1503\u001b[0m \u001b[38;5;66;03m# we need to give `na_action=\"ignore\"` for categorical data.\u001b[39;00m\n\u001b[1;32m   1504\u001b[0m \u001b[38;5;66;03m# TODO: remove the `na_action=\"ignore\"` when that default has been changed in\u001b[39;00m\n\u001b[1;32m   1505\u001b[0m \u001b[38;5;66;03m#  Categorical (GH51645).\u001b[39;00m\n\u001b[1;32m   1506\u001b[0m action \u001b[38;5;241m=\u001b[39m \u001b[38;5;124m\"\u001b[39m\u001b[38;5;124mignore\u001b[39m\u001b[38;5;124m\"\u001b[39m \u001b[38;5;28;01mif\u001b[39;00m \u001b[38;5;28misinstance\u001b[39m(obj\u001b[38;5;241m.\u001b[39mdtype, CategoricalDtype) \u001b[38;5;28;01melse\u001b[39;00m \u001b[38;5;28;01mNone\u001b[39;00m\n\u001b[0;32m-> 1507\u001b[0m mapped \u001b[38;5;241m=\u001b[39m \u001b[43mobj\u001b[49m\u001b[38;5;241;43m.\u001b[39;49m\u001b[43m_map_values\u001b[49m\u001b[43m(\u001b[49m\n\u001b[1;32m   1508\u001b[0m \u001b[43m    \u001b[49m\u001b[43mmapper\u001b[49m\u001b[38;5;241;43m=\u001b[39;49m\u001b[43mcurried\u001b[49m\u001b[43m,\u001b[49m\u001b[43m \u001b[49m\u001b[43mna_action\u001b[49m\u001b[38;5;241;43m=\u001b[39;49m\u001b[43maction\u001b[49m\u001b[43m,\u001b[49m\u001b[43m \u001b[49m\u001b[43mconvert\u001b[49m\u001b[38;5;241;43m=\u001b[39;49m\u001b[38;5;28;43mself\u001b[39;49m\u001b[38;5;241;43m.\u001b[39;49m\u001b[43mconvert_dtype\u001b[49m\n\u001b[1;32m   1509\u001b[0m \u001b[43m\u001b[49m\u001b[43m)\u001b[49m\n\u001b[1;32m   1511\u001b[0m \u001b[38;5;28;01mif\u001b[39;00m \u001b[38;5;28mlen\u001b[39m(mapped) \u001b[38;5;129;01mand\u001b[39;00m \u001b[38;5;28misinstance\u001b[39m(mapped[\u001b[38;5;241m0\u001b[39m], ABCSeries):\n\u001b[1;32m   1512\u001b[0m     \u001b[38;5;66;03m# GH#43986 Need to do list(mapped) in order to get treated as nested\u001b[39;00m\n\u001b[1;32m   1513\u001b[0m     \u001b[38;5;66;03m#  See also GH#25959 regarding EA support\u001b[39;00m\n\u001b[1;32m   1514\u001b[0m     \u001b[38;5;28;01mreturn\u001b[39;00m obj\u001b[38;5;241m.\u001b[39m_constructor_expanddim(\u001b[38;5;28mlist\u001b[39m(mapped), index\u001b[38;5;241m=\u001b[39mobj\u001b[38;5;241m.\u001b[39mindex)\n",
      "File \u001b[0;32m~/miniforge3/envs/iccd332/lib/python3.11/site-packages/pandas/core/base.py:921\u001b[0m, in \u001b[0;36mIndexOpsMixin._map_values\u001b[0;34m(self, mapper, na_action, convert)\u001b[0m\n\u001b[1;32m    918\u001b[0m \u001b[38;5;28;01mif\u001b[39;00m \u001b[38;5;28misinstance\u001b[39m(arr, ExtensionArray):\n\u001b[1;32m    919\u001b[0m     \u001b[38;5;28;01mreturn\u001b[39;00m arr\u001b[38;5;241m.\u001b[39mmap(mapper, na_action\u001b[38;5;241m=\u001b[39mna_action)\n\u001b[0;32m--> 921\u001b[0m \u001b[38;5;28;01mreturn\u001b[39;00m \u001b[43malgorithms\u001b[49m\u001b[38;5;241;43m.\u001b[39;49m\u001b[43mmap_array\u001b[49m\u001b[43m(\u001b[49m\u001b[43marr\u001b[49m\u001b[43m,\u001b[49m\u001b[43m \u001b[49m\u001b[43mmapper\u001b[49m\u001b[43m,\u001b[49m\u001b[43m \u001b[49m\u001b[43mna_action\u001b[49m\u001b[38;5;241;43m=\u001b[39;49m\u001b[43mna_action\u001b[49m\u001b[43m,\u001b[49m\u001b[43m \u001b[49m\u001b[43mconvert\u001b[49m\u001b[38;5;241;43m=\u001b[39;49m\u001b[43mconvert\u001b[49m\u001b[43m)\u001b[49m\n",
      "File \u001b[0;32m~/miniforge3/envs/iccd332/lib/python3.11/site-packages/pandas/core/algorithms.py:1743\u001b[0m, in \u001b[0;36mmap_array\u001b[0;34m(arr, mapper, na_action, convert)\u001b[0m\n\u001b[1;32m   1741\u001b[0m values \u001b[38;5;241m=\u001b[39m arr\u001b[38;5;241m.\u001b[39mastype(\u001b[38;5;28mobject\u001b[39m, copy\u001b[38;5;241m=\u001b[39m\u001b[38;5;28;01mFalse\u001b[39;00m)\n\u001b[1;32m   1742\u001b[0m \u001b[38;5;28;01mif\u001b[39;00m na_action \u001b[38;5;129;01mis\u001b[39;00m \u001b[38;5;28;01mNone\u001b[39;00m:\n\u001b[0;32m-> 1743\u001b[0m     \u001b[38;5;28;01mreturn\u001b[39;00m \u001b[43mlib\u001b[49m\u001b[38;5;241;43m.\u001b[39;49m\u001b[43mmap_infer\u001b[49m\u001b[43m(\u001b[49m\u001b[43mvalues\u001b[49m\u001b[43m,\u001b[49m\u001b[43m \u001b[49m\u001b[43mmapper\u001b[49m\u001b[43m,\u001b[49m\u001b[43m \u001b[49m\u001b[43mconvert\u001b[49m\u001b[38;5;241;43m=\u001b[39;49m\u001b[43mconvert\u001b[49m\u001b[43m)\u001b[49m\n\u001b[1;32m   1744\u001b[0m \u001b[38;5;28;01melse\u001b[39;00m:\n\u001b[1;32m   1745\u001b[0m     \u001b[38;5;28;01mreturn\u001b[39;00m lib\u001b[38;5;241m.\u001b[39mmap_infer_mask(\n\u001b[1;32m   1746\u001b[0m         values, mapper, mask\u001b[38;5;241m=\u001b[39misna(values)\u001b[38;5;241m.\u001b[39mview(np\u001b[38;5;241m.\u001b[39muint8), convert\u001b[38;5;241m=\u001b[39mconvert\n\u001b[1;32m   1747\u001b[0m     )\n",
      "File \u001b[0;32mlib.pyx:2972\u001b[0m, in \u001b[0;36mpandas._libs.lib.map_infer\u001b[0;34m()\u001b[0m\n",
      "Cell \u001b[0;32mIn[26], line 3\u001b[0m, in \u001b[0;36m<lambda>\u001b[0;34m(x)\u001b[0m\n\u001b[1;32m      1\u001b[0m \u001b[38;5;28;01mfrom\u001b[39;00m\u001b[38;5;250m \u001b[39m\u001b[38;5;21;01mdatetime\u001b[39;00m\u001b[38;5;250m \u001b[39m\u001b[38;5;28;01mimport\u001b[39;00m datetime\n\u001b[1;32m      2\u001b[0m df_etl \u001b[38;5;241m=\u001b[39m df\u001b[38;5;241m.\u001b[39mcopy()\n\u001b[0;32m----> 3\u001b[0m df_etl\u001b[38;5;241m.\u001b[39mdt \u001b[38;5;241m=\u001b[39m df\u001b[38;5;241m.\u001b[39mdt\u001b[38;5;241m.\u001b[39mapply(\u001b[38;5;28;01mlambda\u001b[39;00m x: \u001b[43mdatetime\u001b[49m\u001b[38;5;241;43m.\u001b[39;49m\u001b[43mfromtimestamp\u001b[49m\u001b[43m(\u001b[49m\u001b[43mx\u001b[49m\u001b[43m)\u001b[49m)\n\u001b[1;32m      4\u001b[0m \u001b[38;5;66;03m#df_etl.sys_sunrise = df.sys_sunrise.apply(lambda x: datetime.fromtimestamp(x))\u001b[39;00m\n\u001b[1;32m      5\u001b[0m df_etl\u001b[38;5;241m.\u001b[39msys_sunset \u001b[38;5;241m=\u001b[39m df\u001b[38;5;241m.\u001b[39msys_sunset\u001b[38;5;241m.\u001b[39mapply(\u001b[38;5;28;01mlambda\u001b[39;00m x: datetime\u001b[38;5;241m.\u001b[39mfromtimestamp(x))\n",
      "\u001b[0;31mTypeError\u001b[0m: 'str' object cannot be interpreted as an integer"
     ]
    }
   ],
   "source": [
    "from datetime import datetime\n",
    "df_etl = df.copy()\n",
    "df_etl.dt = df.dt.apply(lambda x: datetime.fromtimestamp(x))\n",
    "df_etl.sys_sunrise = df.sys_sunrise.apply(lambda x: datetime.fromtimestamp(x))\n",
    "df_etl.sys_sunset = df.sys_sunset.apply(lambda x: datetime.fromtimestamp(x))\n",
    "df_etl.sample(5)"
   ]
  },
  {
   "cell_type": "markdown",
   "id": "ae636bdf-042d-4e05-b489-f5ebee6d5beb",
   "metadata": {},
   "source": [
    "Generalmente es de interés realizar un breve análisis estadístico de las variables del dataset"
   ]
  },
  {
   "cell_type": "code",
   "execution_count": 27,
   "id": "d57234c2-64b9-466d-91ab-9e6e16a5a9f9",
   "metadata": {},
   "outputs": [
    {
     "data": {
      "text/html": [
       "<div>\n",
       "<style scoped>\n",
       "    .dataframe tbody tr th:only-of-type {\n",
       "        vertical-align: middle;\n",
       "    }\n",
       "\n",
       "    .dataframe tbody tr th {\n",
       "        vertical-align: top;\n",
       "    }\n",
       "\n",
       "    .dataframe thead th {\n",
       "        text-align: right;\n",
       "    }\n",
       "</style>\n",
       "<table border=\"1\" class=\"dataframe\">\n",
       "  <thead>\n",
       "    <tr style=\"text-align: right;\">\n",
       "      <th></th>\n",
       "      <th>count</th>\n",
       "      <th>mean</th>\n",
       "      <th>std</th>\n",
       "      <th>min</th>\n",
       "      <th>25%</th>\n",
       "      <th>50%</th>\n",
       "      <th>75%</th>\n",
       "      <th>max</th>\n",
       "    </tr>\n",
       "  </thead>\n",
       "  <tbody>\n",
       "    <tr>\n",
       "      <th>coord_lon</th>\n",
       "      <td>13.0</td>\n",
       "      <td>1.340000e+01</td>\n",
       "      <td>1.848891e-15</td>\n",
       "      <td>1.340000e+01</td>\n",
       "      <td>1.340000e+01</td>\n",
       "      <td>1.340000e+01</td>\n",
       "      <td>1.340000e+01</td>\n",
       "      <td>1.340000e+01</td>\n",
       "    </tr>\n",
       "    <tr>\n",
       "      <th>coord_lat</th>\n",
       "      <td>13.0</td>\n",
       "      <td>5.252000e+01</td>\n",
       "      <td>7.395563e-15</td>\n",
       "      <td>5.252000e+01</td>\n",
       "      <td>5.252000e+01</td>\n",
       "      <td>5.252000e+01</td>\n",
       "      <td>5.252000e+01</td>\n",
       "      <td>5.252000e+01</td>\n",
       "    </tr>\n",
       "    <tr>\n",
       "      <th>weather_0_id</th>\n",
       "      <td>13.0</td>\n",
       "      <td>8.030000e+02</td>\n",
       "      <td>0.000000e+00</td>\n",
       "      <td>8.030000e+02</td>\n",
       "      <td>8.030000e+02</td>\n",
       "      <td>8.030000e+02</td>\n",
       "      <td>8.030000e+02</td>\n",
       "      <td>8.030000e+02</td>\n",
       "    </tr>\n",
       "    <tr>\n",
       "      <th>main_temp</th>\n",
       "      <td>13.0</td>\n",
       "      <td>2.620000e+00</td>\n",
       "      <td>0.000000e+00</td>\n",
       "      <td>2.620000e+00</td>\n",
       "      <td>2.620000e+00</td>\n",
       "      <td>2.620000e+00</td>\n",
       "      <td>2.620000e+00</td>\n",
       "      <td>2.620000e+00</td>\n",
       "    </tr>\n",
       "    <tr>\n",
       "      <th>main_feels_like</th>\n",
       "      <td>13.0</td>\n",
       "      <td>-3.180000e+00</td>\n",
       "      <td>0.000000e+00</td>\n",
       "      <td>-3.180000e+00</td>\n",
       "      <td>-3.180000e+00</td>\n",
       "      <td>-3.180000e+00</td>\n",
       "      <td>-3.180000e+00</td>\n",
       "      <td>-3.180000e+00</td>\n",
       "    </tr>\n",
       "    <tr>\n",
       "      <th>main_temp_min</th>\n",
       "      <td>13.0</td>\n",
       "      <td>6.100000e-01</td>\n",
       "      <td>1.155557e-16</td>\n",
       "      <td>6.100000e-01</td>\n",
       "      <td>6.100000e-01</td>\n",
       "      <td>6.100000e-01</td>\n",
       "      <td>6.100000e-01</td>\n",
       "      <td>6.100000e-01</td>\n",
       "    </tr>\n",
       "    <tr>\n",
       "      <th>main_temp_max</th>\n",
       "      <td>13.0</td>\n",
       "      <td>3.360000e+00</td>\n",
       "      <td>0.000000e+00</td>\n",
       "      <td>3.360000e+00</td>\n",
       "      <td>3.360000e+00</td>\n",
       "      <td>3.360000e+00</td>\n",
       "      <td>3.360000e+00</td>\n",
       "      <td>3.360000e+00</td>\n",
       "    </tr>\n",
       "    <tr>\n",
       "      <th>main_pressure</th>\n",
       "      <td>13.0</td>\n",
       "      <td>1.032000e+03</td>\n",
       "      <td>0.000000e+00</td>\n",
       "      <td>1.032000e+03</td>\n",
       "      <td>1.032000e+03</td>\n",
       "      <td>1.032000e+03</td>\n",
       "      <td>1.032000e+03</td>\n",
       "      <td>1.032000e+03</td>\n",
       "    </tr>\n",
       "    <tr>\n",
       "      <th>main_humidity</th>\n",
       "      <td>13.0</td>\n",
       "      <td>7.700000e+01</td>\n",
       "      <td>0.000000e+00</td>\n",
       "      <td>7.700000e+01</td>\n",
       "      <td>7.700000e+01</td>\n",
       "      <td>7.700000e+01</td>\n",
       "      <td>7.700000e+01</td>\n",
       "      <td>7.700000e+01</td>\n",
       "    </tr>\n",
       "    <tr>\n",
       "      <th>main_sea_level</th>\n",
       "      <td>13.0</td>\n",
       "      <td>1.032000e+03</td>\n",
       "      <td>0.000000e+00</td>\n",
       "      <td>1.032000e+03</td>\n",
       "      <td>1.032000e+03</td>\n",
       "      <td>1.032000e+03</td>\n",
       "      <td>1.032000e+03</td>\n",
       "      <td>1.032000e+03</td>\n",
       "    </tr>\n",
       "    <tr>\n",
       "      <th>main_grnd_level</th>\n",
       "      <td>13.0</td>\n",
       "      <td>1.026000e+03</td>\n",
       "      <td>0.000000e+00</td>\n",
       "      <td>1.026000e+03</td>\n",
       "      <td>1.026000e+03</td>\n",
       "      <td>1.026000e+03</td>\n",
       "      <td>1.026000e+03</td>\n",
       "      <td>1.026000e+03</td>\n",
       "    </tr>\n",
       "    <tr>\n",
       "      <th>visibility</th>\n",
       "      <td>13.0</td>\n",
       "      <td>1.000000e+04</td>\n",
       "      <td>0.000000e+00</td>\n",
       "      <td>1.000000e+04</td>\n",
       "      <td>1.000000e+04</td>\n",
       "      <td>1.000000e+04</td>\n",
       "      <td>1.000000e+04</td>\n",
       "      <td>1.000000e+04</td>\n",
       "    </tr>\n",
       "    <tr>\n",
       "      <th>wind_speed</th>\n",
       "      <td>13.0</td>\n",
       "      <td>8.750000e+00</td>\n",
       "      <td>0.000000e+00</td>\n",
       "      <td>8.750000e+00</td>\n",
       "      <td>8.750000e+00</td>\n",
       "      <td>8.750000e+00</td>\n",
       "      <td>8.750000e+00</td>\n",
       "      <td>8.750000e+00</td>\n",
       "    </tr>\n",
       "    <tr>\n",
       "      <th>wind_deg</th>\n",
       "      <td>13.0</td>\n",
       "      <td>1.000000e+02</td>\n",
       "      <td>0.000000e+00</td>\n",
       "      <td>1.000000e+02</td>\n",
       "      <td>1.000000e+02</td>\n",
       "      <td>1.000000e+02</td>\n",
       "      <td>1.000000e+02</td>\n",
       "      <td>1.000000e+02</td>\n",
       "    </tr>\n",
       "    <tr>\n",
       "      <th>wind_gust</th>\n",
       "      <td>0.0</td>\n",
       "      <td>NaN</td>\n",
       "      <td>NaN</td>\n",
       "      <td>NaN</td>\n",
       "      <td>NaN</td>\n",
       "      <td>NaN</td>\n",
       "      <td>NaN</td>\n",
       "      <td>NaN</td>\n",
       "    </tr>\n",
       "    <tr>\n",
       "      <th>clouds_all</th>\n",
       "      <td>13.0</td>\n",
       "      <td>7.500000e+01</td>\n",
       "      <td>0.000000e+00</td>\n",
       "      <td>7.500000e+01</td>\n",
       "      <td>7.500000e+01</td>\n",
       "      <td>7.500000e+01</td>\n",
       "      <td>7.500000e+01</td>\n",
       "      <td>7.500000e+01</td>\n",
       "    </tr>\n",
       "    <tr>\n",
       "      <th>sys_type</th>\n",
       "      <td>13.0</td>\n",
       "      <td>2.000000e+00</td>\n",
       "      <td>0.000000e+00</td>\n",
       "      <td>2.000000e+00</td>\n",
       "      <td>2.000000e+00</td>\n",
       "      <td>2.000000e+00</td>\n",
       "      <td>2.000000e+00</td>\n",
       "      <td>2.000000e+00</td>\n",
       "    </tr>\n",
       "    <tr>\n",
       "      <th>sys_id</th>\n",
       "      <td>13.0</td>\n",
       "      <td>2.011538e+06</td>\n",
       "      <td>0.000000e+00</td>\n",
       "      <td>2.011538e+06</td>\n",
       "      <td>2.011538e+06</td>\n",
       "      <td>2.011538e+06</td>\n",
       "      <td>2.011538e+06</td>\n",
       "      <td>2.011538e+06</td>\n",
       "    </tr>\n",
       "    <tr>\n",
       "      <th>sys_sunset</th>\n",
       "      <td>13.0</td>\n",
       "      <td>1.738944e+09</td>\n",
       "      <td>0.000000e+00</td>\n",
       "      <td>1.738944e+09</td>\n",
       "      <td>1.738944e+09</td>\n",
       "      <td>1.738944e+09</td>\n",
       "      <td>1.738944e+09</td>\n",
       "      <td>1.738944e+09</td>\n",
       "    </tr>\n",
       "    <tr>\n",
       "      <th>timezone</th>\n",
       "      <td>13.0</td>\n",
       "      <td>3.600000e+03</td>\n",
       "      <td>0.000000e+00</td>\n",
       "      <td>3.600000e+03</td>\n",
       "      <td>3.600000e+03</td>\n",
       "      <td>3.600000e+03</td>\n",
       "      <td>3.600000e+03</td>\n",
       "      <td>3.600000e+03</td>\n",
       "    </tr>\n",
       "    <tr>\n",
       "      <th>id</th>\n",
       "      <td>13.0</td>\n",
       "      <td>6.545310e+06</td>\n",
       "      <td>0.000000e+00</td>\n",
       "      <td>6.545310e+06</td>\n",
       "      <td>6.545310e+06</td>\n",
       "      <td>6.545310e+06</td>\n",
       "      <td>6.545310e+06</td>\n",
       "      <td>6.545310e+06</td>\n",
       "    </tr>\n",
       "    <tr>\n",
       "      <th>cod</th>\n",
       "      <td>13.0</td>\n",
       "      <td>2.000000e+02</td>\n",
       "      <td>0.000000e+00</td>\n",
       "      <td>2.000000e+02</td>\n",
       "      <td>2.000000e+02</td>\n",
       "      <td>2.000000e+02</td>\n",
       "      <td>2.000000e+02</td>\n",
       "      <td>2.000000e+02</td>\n",
       "    </tr>\n",
       "  </tbody>\n",
       "</table>\n",
       "</div>"
      ],
      "text/plain": [
       "                 count          mean           std           min  \\\n",
       "coord_lon         13.0  1.340000e+01  1.848891e-15  1.340000e+01   \n",
       "coord_lat         13.0  5.252000e+01  7.395563e-15  5.252000e+01   \n",
       "weather_0_id      13.0  8.030000e+02  0.000000e+00  8.030000e+02   \n",
       "main_temp         13.0  2.620000e+00  0.000000e+00  2.620000e+00   \n",
       "main_feels_like   13.0 -3.180000e+00  0.000000e+00 -3.180000e+00   \n",
       "main_temp_min     13.0  6.100000e-01  1.155557e-16  6.100000e-01   \n",
       "main_temp_max     13.0  3.360000e+00  0.000000e+00  3.360000e+00   \n",
       "main_pressure     13.0  1.032000e+03  0.000000e+00  1.032000e+03   \n",
       "main_humidity     13.0  7.700000e+01  0.000000e+00  7.700000e+01   \n",
       "main_sea_level    13.0  1.032000e+03  0.000000e+00  1.032000e+03   \n",
       "main_grnd_level   13.0  1.026000e+03  0.000000e+00  1.026000e+03   \n",
       "visibility        13.0  1.000000e+04  0.000000e+00  1.000000e+04   \n",
       "wind_speed        13.0  8.750000e+00  0.000000e+00  8.750000e+00   \n",
       "wind_deg          13.0  1.000000e+02  0.000000e+00  1.000000e+02   \n",
       "wind_gust          0.0           NaN           NaN           NaN   \n",
       "clouds_all        13.0  7.500000e+01  0.000000e+00  7.500000e+01   \n",
       "sys_type          13.0  2.000000e+00  0.000000e+00  2.000000e+00   \n",
       "sys_id            13.0  2.011538e+06  0.000000e+00  2.011538e+06   \n",
       "sys_sunset        13.0  1.738944e+09  0.000000e+00  1.738944e+09   \n",
       "timezone          13.0  3.600000e+03  0.000000e+00  3.600000e+03   \n",
       "id                13.0  6.545310e+06  0.000000e+00  6.545310e+06   \n",
       "cod               13.0  2.000000e+02  0.000000e+00  2.000000e+02   \n",
       "\n",
       "                          25%           50%           75%           max  \n",
       "coord_lon        1.340000e+01  1.340000e+01  1.340000e+01  1.340000e+01  \n",
       "coord_lat        5.252000e+01  5.252000e+01  5.252000e+01  5.252000e+01  \n",
       "weather_0_id     8.030000e+02  8.030000e+02  8.030000e+02  8.030000e+02  \n",
       "main_temp        2.620000e+00  2.620000e+00  2.620000e+00  2.620000e+00  \n",
       "main_feels_like -3.180000e+00 -3.180000e+00 -3.180000e+00 -3.180000e+00  \n",
       "main_temp_min    6.100000e-01  6.100000e-01  6.100000e-01  6.100000e-01  \n",
       "main_temp_max    3.360000e+00  3.360000e+00  3.360000e+00  3.360000e+00  \n",
       "main_pressure    1.032000e+03  1.032000e+03  1.032000e+03  1.032000e+03  \n",
       "main_humidity    7.700000e+01  7.700000e+01  7.700000e+01  7.700000e+01  \n",
       "main_sea_level   1.032000e+03  1.032000e+03  1.032000e+03  1.032000e+03  \n",
       "main_grnd_level  1.026000e+03  1.026000e+03  1.026000e+03  1.026000e+03  \n",
       "visibility       1.000000e+04  1.000000e+04  1.000000e+04  1.000000e+04  \n",
       "wind_speed       8.750000e+00  8.750000e+00  8.750000e+00  8.750000e+00  \n",
       "wind_deg         1.000000e+02  1.000000e+02  1.000000e+02  1.000000e+02  \n",
       "wind_gust                 NaN           NaN           NaN           NaN  \n",
       "clouds_all       7.500000e+01  7.500000e+01  7.500000e+01  7.500000e+01  \n",
       "sys_type         2.000000e+00  2.000000e+00  2.000000e+00  2.000000e+00  \n",
       "sys_id           2.011538e+06  2.011538e+06  2.011538e+06  2.011538e+06  \n",
       "sys_sunset       1.738944e+09  1.738944e+09  1.738944e+09  1.738944e+09  \n",
       "timezone         3.600000e+03  3.600000e+03  3.600000e+03  3.600000e+03  \n",
       "id               6.545310e+06  6.545310e+06  6.545310e+06  6.545310e+06  \n",
       "cod              2.000000e+02  2.000000e+02  2.000000e+02  2.000000e+02  "
      ]
     },
     "execution_count": 27,
     "metadata": {},
     "output_type": "execute_result"
    }
   ],
   "source": [
    "df_etl.describe().transpose()"
   ]
  },
  {
   "cell_type": "code",
   "execution_count": 28,
   "id": "27fade28-37fd-475d-a070-d1893a109a44",
   "metadata": {},
   "outputs": [],
   "source": [
    "df_etl.to_csv('clima-quito-hoy-etl.csv', index=False)"
   ]
  },
  {
   "cell_type": "markdown",
   "id": "2d6ad91d-07e0-469d-9ceb-0b321708f067",
   "metadata": {},
   "source": [
    "### Presentación de Resultados\n",
    "\n",
    "Se procede a realizar gráficas de interés para estudiar el comportamiento climatológico"
   ]
  },
  {
   "cell_type": "code",
   "execution_count": 29,
   "id": "059d79c2-d08e-4b33-abc9-8d8f8a93c22b",
   "metadata": {},
   "outputs": [
    {
     "data": {
      "text/plain": [
       "Text(0.5, 1.0, 'Main Temp vs Time in Mitte')"
      ]
     },
     "execution_count": 29,
     "metadata": {},
     "output_type": "execute_result"
    },
    {
     "data": {
      "image/png": "[encoded data removed]",
      "text/plain": [
       "<Figure size 640x480 with 1 Axes>"
      ]
     },
     "metadata": {},
     "output_type": "display_data"
    }
   ],
   "source": [
    "import matplotlib.pyplot as plt\n",
    "\n",
    "df_etl.plot.line('dt', 'main_temp')\n",
    "plt.grid()\n",
    "plt.title(f'Main Temp vs Time in {next(iter(set(df_etl.name)))}')"
   ]
  },
  {
   "cell_type": "code",
   "execution_count": 30,
   "id": "8bf3243b-bc62-496a-b495-6cc6de15dc62",
   "metadata": {},
   "outputs": [
    {
     "ename": "ModuleNotFoundError",
     "evalue": "No module named 'plotly_express'",
     "output_type": "error",
     "traceback": [
      "\u001b[0;31m---------------------------------------------------------------------------\u001b[0m",
      "\u001b[0;31mModuleNotFoundError\u001b[0m                       Traceback (most recent call last)",
      "Cell \u001b[0;32mIn[30], line 1\u001b[0m\n\u001b[0;32m----> 1\u001b[0m \u001b[38;5;28;01mimport\u001b[39;00m\u001b[38;5;250m \u001b[39m\u001b[38;5;21;01mplotly_express\u001b[39;00m\u001b[38;5;250m \u001b[39m\u001b[38;5;28;01mas\u001b[39;00m\u001b[38;5;250m \u001b[39m\u001b[38;5;21;01mpx\u001b[39;00m\n\u001b[1;32m      2\u001b[0m fig \u001b[38;5;241m=\u001b[39m px\u001b[38;5;241m.\u001b[39mline(df_etl, x\u001b[38;5;241m=\u001b[39m\u001b[38;5;124m'\u001b[39m\u001b[38;5;124mdt\u001b[39m\u001b[38;5;124m'\u001b[39m, y\u001b[38;5;241m=\u001b[39m[\u001b[38;5;124m'\u001b[39m\u001b[38;5;124mmain_temp\u001b[39m\u001b[38;5;124m'\u001b[39m, \u001b[38;5;124m'\u001b[39m\u001b[38;5;124mmain_humidity\u001b[39m\u001b[38;5;124m'\u001b[39m], title\u001b[38;5;241m=\u001b[39m\u001b[38;5;124mf\u001b[39m\u001b[38;5;124m\"\u001b[39m\u001b[38;5;124mMain Tem & Humidity vs Time in \u001b[39m\u001b[38;5;132;01m{\u001b[39;00m\u001b[38;5;28mnext\u001b[39m(\u001b[38;5;28miter\u001b[39m(\u001b[38;5;28mset\u001b[39m(df_etl\u001b[38;5;241m.\u001b[39mname)))\u001b[38;5;132;01m}\u001b[39;00m\u001b[38;5;124m\"\u001b[39m)\n\u001b[1;32m      3\u001b[0m fig\u001b[38;5;241m.\u001b[39mshow()\n",
      "\u001b[0;31mModuleNotFoundError\u001b[0m: No module named 'plotly_express'"
     ]
    }
   ],
   "source": [
    "import plotly_express as px\n",
    "fig = px.line(df_etl, x='dt', y=['main_temp', 'main_humidity'], title=f\"Main Tem & Humidity vs Time in {next(iter(set(df_etl.name)))}\")\n",
    "fig.show()"
   ]
  },
  {
   "cell_type": "code",
   "execution_count": 31,
   "id": "1224ed5a-ff87-45b0-bf8d-f9930a16c595",
   "metadata": {},
   "outputs": [
    {
     "data": {
      "image/png": "[encoded data removed]",
      "text/plain": [
       "<Figure size 640x480 with 1 Axes>"
      ]
     },
     "metadata": {},
     "output_type": "display_data"
    }
   ],
   "source": [
    "df_etl.main_temp.hist(bins=20)\n",
    "plt.title(f'Histogram of Main Temp in {next(iter(set(df_etl.name)))}')\n",
    "plt.grid()"
   ]
  },
  {
   "cell_type": "code",
   "execution_count": 32,
   "id": "862de5d6-2270-4540-a8fa-d2e404a2d3cf",
   "metadata": {},
   "outputs": [
    {
     "ename": "NameError",
     "evalue": "name 'px' is not defined",
     "output_type": "error",
     "traceback": [
      "\u001b[0;31m---------------------------------------------------------------------------\u001b[0m",
      "\u001b[0;31mNameError\u001b[0m                                 Traceback (most recent call last)",
      "Cell \u001b[0;32mIn[32], line 1\u001b[0m\n\u001b[0;32m----> 1\u001b[0m fig \u001b[38;5;241m=\u001b[39m \u001b[43mpx\u001b[49m\u001b[38;5;241m.\u001b[39mviolin(df_etl, \u001b[38;5;124m'\u001b[39m\u001b[38;5;124mmain_temp\u001b[39m\u001b[38;5;124m'\u001b[39m, title\u001b[38;5;241m=\u001b[39m\u001b[38;5;124mf\u001b[39m\u001b[38;5;124m\"\u001b[39m\u001b[38;5;124mViolin Plot Main Temp in \u001b[39m\u001b[38;5;132;01m{\u001b[39;00m\u001b[38;5;28mnext\u001b[39m(\u001b[38;5;28miter\u001b[39m(\u001b[38;5;28mset\u001b[39m(df_etl\u001b[38;5;241m.\u001b[39mname)))\u001b[38;5;132;01m}\u001b[39;00m\u001b[38;5;124m\"\u001b[39m)\n\u001b[1;32m      2\u001b[0m fig\u001b[38;5;241m.\u001b[39mshow()\n",
      "\u001b[0;31mNameError\u001b[0m: name 'px' is not defined"
     ]
    }
   ],
   "source": [
    "fig = px.violin(df_etl, 'main_temp', title=f\"Violin Plot Main Temp in {next(iter(set(df_etl.name)))}\")\n",
    "fig.show()"
   ]
  },
  {
   "cell_type": "code",
   "execution_count": 33,
   "id": "cb9b9ebc-b73b-4321-a7e3-fe708ac1883d",
   "metadata": {},
   "outputs": [
    {
     "ename": "FileNotFoundError",
     "evalue": "[Errno 2] No such file or directory: '/home/leningfe/PythonProjects/QuitoWeather/weather-site/content/images/temperature.pdf'",
     "output_type": "error",
     "traceback": [
      "\u001b[0;31m---------------------------------------------------------------------------\u001b[0m",
      "\u001b[0;31mFileNotFoundError\u001b[0m                         Traceback (most recent call last)",
      "Cell \u001b[0;32mIn[33], line 7\u001b[0m\n\u001b[1;32m      5\u001b[0m fig\u001b[38;5;241m.\u001b[39mtight_layout()\n\u001b[1;32m      6\u001b[0m fname \u001b[38;5;241m=\u001b[39m \u001b[38;5;124m'\u001b[39m\u001b[38;5;124m/home/leningfe/PythonProjects/QuitoWeather/weather-site/content/images/temperature.pdf\u001b[39m\u001b[38;5;124m'\u001b[39m\n\u001b[0;32m----> 7\u001b[0m \u001b[43mplt\u001b[49m\u001b[38;5;241;43m.\u001b[39;49m\u001b[43msavefig\u001b[49m\u001b[43m(\u001b[49m\u001b[43mfname\u001b[49m\u001b[43m)\u001b[49m\n",
      "File \u001b[0;32m~/miniforge3/envs/iccd332/lib/python3.11/site-packages/matplotlib/pyplot.py:1243\u001b[0m, in \u001b[0;36msavefig\u001b[0;34m(*args, **kwargs)\u001b[0m\n\u001b[1;32m   1240\u001b[0m fig \u001b[38;5;241m=\u001b[39m gcf()\n\u001b[1;32m   1241\u001b[0m \u001b[38;5;66;03m# savefig default implementation has no return, so mypy is unhappy\u001b[39;00m\n\u001b[1;32m   1242\u001b[0m \u001b[38;5;66;03m# presumably this is here because subclasses can return?\u001b[39;00m\n\u001b[0;32m-> 1243\u001b[0m res \u001b[38;5;241m=\u001b[39m \u001b[43mfig\u001b[49m\u001b[38;5;241;43m.\u001b[39;49m\u001b[43msavefig\u001b[49m\u001b[43m(\u001b[49m\u001b[38;5;241;43m*\u001b[39;49m\u001b[43margs\u001b[49m\u001b[43m,\u001b[49m\u001b[43m \u001b[49m\u001b[38;5;241;43m*\u001b[39;49m\u001b[38;5;241;43m*\u001b[39;49m\u001b[43mkwargs\u001b[49m\u001b[43m)\u001b[49m  \u001b[38;5;66;03m# type: ignore[func-returns-value]\u001b[39;00m\n\u001b[1;32m   1244\u001b[0m fig\u001b[38;5;241m.\u001b[39mcanvas\u001b[38;5;241m.\u001b[39mdraw_idle()  \u001b[38;5;66;03m# Need this if 'transparent=True', to reset colors.\u001b[39;00m\n\u001b[1;32m   1245\u001b[0m \u001b[38;5;28;01mreturn\u001b[39;00m res\n",
      "File \u001b[0;32m~/miniforge3/envs/iccd332/lib/python3.11/site-packages/matplotlib/figure.py:3490\u001b[0m, in \u001b[0;36mFigure.savefig\u001b[0;34m(self, fname, transparent, **kwargs)\u001b[0m\n\u001b[1;32m   3488\u001b[0m     \u001b[38;5;28;01mfor\u001b[39;00m ax \u001b[38;5;129;01min\u001b[39;00m \u001b[38;5;28mself\u001b[39m\u001b[38;5;241m.\u001b[39maxes:\n\u001b[1;32m   3489\u001b[0m         _recursively_make_axes_transparent(stack, ax)\n\u001b[0;32m-> 3490\u001b[0m \u001b[38;5;28;43mself\u001b[39;49m\u001b[38;5;241;43m.\u001b[39;49m\u001b[43mcanvas\u001b[49m\u001b[38;5;241;43m.\u001b[39;49m\u001b[43mprint_figure\u001b[49m\u001b[43m(\u001b[49m\u001b[43mfname\u001b[49m\u001b[43m,\u001b[49m\u001b[43m \u001b[49m\u001b[38;5;241;43m*\u001b[39;49m\u001b[38;5;241;43m*\u001b[39;49m\u001b[43mkwargs\u001b[49m\u001b[43m)\u001b[49m\n",
      "File \u001b[0;32m~/miniforge3/envs/iccd332/lib/python3.11/site-packages/matplotlib/backend_bases.py:2184\u001b[0m, in \u001b[0;36mFigureCanvasBase.print_figure\u001b[0;34m(self, filename, dpi, facecolor, edgecolor, orientation, format, bbox_inches, pad_inches, bbox_extra_artists, backend, **kwargs)\u001b[0m\n\u001b[1;32m   2180\u001b[0m \u001b[38;5;28;01mtry\u001b[39;00m:\n\u001b[1;32m   2181\u001b[0m     \u001b[38;5;66;03m# _get_renderer may change the figure dpi (as vector formats\u001b[39;00m\n\u001b[1;32m   2182\u001b[0m     \u001b[38;5;66;03m# force the figure dpi to 72), so we need to set it again here.\u001b[39;00m\n\u001b[1;32m   2183\u001b[0m     \u001b[38;5;28;01mwith\u001b[39;00m cbook\u001b[38;5;241m.\u001b[39m_setattr_cm(\u001b[38;5;28mself\u001b[39m\u001b[38;5;241m.\u001b[39mfigure, dpi\u001b[38;5;241m=\u001b[39mdpi):\n\u001b[0;32m-> 2184\u001b[0m         result \u001b[38;5;241m=\u001b[39m \u001b[43mprint_method\u001b[49m\u001b[43m(\u001b[49m\n\u001b[1;32m   2185\u001b[0m \u001b[43m            \u001b[49m\u001b[43mfilename\u001b[49m\u001b[43m,\u001b[49m\n\u001b[1;32m   2186\u001b[0m \u001b[43m            \u001b[49m\u001b[43mfacecolor\u001b[49m\u001b[38;5;241;43m=\u001b[39;49m\u001b[43mfacecolor\u001b[49m\u001b[43m,\u001b[49m\n\u001b[1;32m   2187\u001b[0m \u001b[43m            \u001b[49m\u001b[43medgecolor\u001b[49m\u001b[38;5;241;43m=\u001b[39;49m\u001b[43medgecolor\u001b[49m\u001b[43m,\u001b[49m\n\u001b[1;32m   2188\u001b[0m \u001b[43m            \u001b[49m\u001b[43morientation\u001b[49m\u001b[38;5;241;43m=\u001b[39;49m\u001b[43morientation\u001b[49m\u001b[43m,\u001b[49m\n\u001b[1;32m   2189\u001b[0m \u001b[43m            \u001b[49m\u001b[43mbbox_inches_restore\u001b[49m\u001b[38;5;241;43m=\u001b[39;49m\u001b[43m_bbox_inches_restore\u001b[49m\u001b[43m,\u001b[49m\n\u001b[1;32m   2190\u001b[0m \u001b[43m            \u001b[49m\u001b[38;5;241;43m*\u001b[39;49m\u001b[38;5;241;43m*\u001b[39;49m\u001b[43mkwargs\u001b[49m\u001b[43m)\u001b[49m\n\u001b[1;32m   2191\u001b[0m \u001b[38;5;28;01mfinally\u001b[39;00m:\n\u001b[1;32m   2192\u001b[0m     \u001b[38;5;28;01mif\u001b[39;00m bbox_inches \u001b[38;5;129;01mand\u001b[39;00m restore_bbox:\n",
      "File \u001b[0;32m~/miniforge3/envs/iccd332/lib/python3.11/site-packages/matplotlib/backend_bases.py:2040\u001b[0m, in \u001b[0;36mFigureCanvasBase._switch_canvas_and_return_print_method.<locals>.<lambda>\u001b[0;34m(*args, **kwargs)\u001b[0m\n\u001b[1;32m   2036\u001b[0m     optional_kws \u001b[38;5;241m=\u001b[39m {  \u001b[38;5;66;03m# Passed by print_figure for other renderers.\u001b[39;00m\n\u001b[1;32m   2037\u001b[0m         \u001b[38;5;124m\"\u001b[39m\u001b[38;5;124mdpi\u001b[39m\u001b[38;5;124m\"\u001b[39m, \u001b[38;5;124m\"\u001b[39m\u001b[38;5;124mfacecolor\u001b[39m\u001b[38;5;124m\"\u001b[39m, \u001b[38;5;124m\"\u001b[39m\u001b[38;5;124medgecolor\u001b[39m\u001b[38;5;124m\"\u001b[39m, \u001b[38;5;124m\"\u001b[39m\u001b[38;5;124morientation\u001b[39m\u001b[38;5;124m\"\u001b[39m,\n\u001b[1;32m   2038\u001b[0m         \u001b[38;5;124m\"\u001b[39m\u001b[38;5;124mbbox_inches_restore\u001b[39m\u001b[38;5;124m\"\u001b[39m}\n\u001b[1;32m   2039\u001b[0m     skip \u001b[38;5;241m=\u001b[39m optional_kws \u001b[38;5;241m-\u001b[39m {\u001b[38;5;241m*\u001b[39minspect\u001b[38;5;241m.\u001b[39msignature(meth)\u001b[38;5;241m.\u001b[39mparameters}\n\u001b[0;32m-> 2040\u001b[0m     print_method \u001b[38;5;241m=\u001b[39m functools\u001b[38;5;241m.\u001b[39mwraps(meth)(\u001b[38;5;28;01mlambda\u001b[39;00m \u001b[38;5;241m*\u001b[39margs, \u001b[38;5;241m*\u001b[39m\u001b[38;5;241m*\u001b[39mkwargs: \u001b[43mmeth\u001b[49m\u001b[43m(\u001b[49m\n\u001b[1;32m   2041\u001b[0m \u001b[43m        \u001b[49m\u001b[38;5;241;43m*\u001b[39;49m\u001b[43margs\u001b[49m\u001b[43m,\u001b[49m\u001b[43m \u001b[49m\u001b[38;5;241;43m*\u001b[39;49m\u001b[38;5;241;43m*\u001b[39;49m\u001b[43m{\u001b[49m\u001b[43mk\u001b[49m\u001b[43m:\u001b[49m\u001b[43m \u001b[49m\u001b[43mv\u001b[49m\u001b[43m \u001b[49m\u001b[38;5;28;43;01mfor\u001b[39;49;00m\u001b[43m \u001b[49m\u001b[43mk\u001b[49m\u001b[43m,\u001b[49m\u001b[43m \u001b[49m\u001b[43mv\u001b[49m\u001b[43m \u001b[49m\u001b[38;5;129;43;01min\u001b[39;49;00m\u001b[43m \u001b[49m\u001b[43mkwargs\u001b[49m\u001b[38;5;241;43m.\u001b[39;49m\u001b[43mitems\u001b[49m\u001b[43m(\u001b[49m\u001b[43m)\u001b[49m\u001b[43m \u001b[49m\u001b[38;5;28;43;01mif\u001b[39;49;00m\u001b[43m \u001b[49m\u001b[43mk\u001b[49m\u001b[43m \u001b[49m\u001b[38;5;129;43;01mnot\u001b[39;49;00m\u001b[43m \u001b[49m\u001b[38;5;129;43;01min\u001b[39;49;00m\u001b[43m \u001b[49m\u001b[43mskip\u001b[49m\u001b[43m}\u001b[49m\u001b[43m)\u001b[49m)\n\u001b[1;32m   2042\u001b[0m \u001b[38;5;28;01melse\u001b[39;00m:  \u001b[38;5;66;03m# Let third-parties do as they see fit.\u001b[39;00m\n\u001b[1;32m   2043\u001b[0m     print_method \u001b[38;5;241m=\u001b[39m meth\n",
      "File \u001b[0;32m~/miniforge3/envs/iccd332/lib/python3.11/site-packages/matplotlib/backends/backend_pdf.py:2779\u001b[0m, in \u001b[0;36mFigureCanvasPdf.print_pdf\u001b[0;34m(self, filename, bbox_inches_restore, metadata)\u001b[0m\n\u001b[1;32m   2777\u001b[0m     file \u001b[38;5;241m=\u001b[39m filename\u001b[38;5;241m.\u001b[39m_ensure_file()\n\u001b[1;32m   2778\u001b[0m \u001b[38;5;28;01melse\u001b[39;00m:\n\u001b[0;32m-> 2779\u001b[0m     file \u001b[38;5;241m=\u001b[39m \u001b[43mPdfFile\u001b[49m\u001b[43m(\u001b[49m\u001b[43mfilename\u001b[49m\u001b[43m,\u001b[49m\u001b[43m \u001b[49m\u001b[43mmetadata\u001b[49m\u001b[38;5;241;43m=\u001b[39;49m\u001b[43mmetadata\u001b[49m\u001b[43m)\u001b[49m\n\u001b[1;32m   2780\u001b[0m \u001b[38;5;28;01mtry\u001b[39;00m:\n\u001b[1;32m   2781\u001b[0m     file\u001b[38;5;241m.\u001b[39mnewPage(width, height)\n",
      "File \u001b[0;32m~/miniforge3/envs/iccd332/lib/python3.11/site-packages/matplotlib/backends/backend_pdf.py:687\u001b[0m, in \u001b[0;36mPdfFile.__init__\u001b[0;34m(self, filename, metadata)\u001b[0m\n\u001b[1;32m    685\u001b[0m \u001b[38;5;28mself\u001b[39m\u001b[38;5;241m.\u001b[39moriginal_file_like \u001b[38;5;241m=\u001b[39m \u001b[38;5;28;01mNone\u001b[39;00m\n\u001b[1;32m    686\u001b[0m \u001b[38;5;28mself\u001b[39m\u001b[38;5;241m.\u001b[39mtell_base \u001b[38;5;241m=\u001b[39m \u001b[38;5;241m0\u001b[39m\n\u001b[0;32m--> 687\u001b[0m fh, opened \u001b[38;5;241m=\u001b[39m \u001b[43mcbook\u001b[49m\u001b[38;5;241;43m.\u001b[39;49m\u001b[43mto_filehandle\u001b[49m\u001b[43m(\u001b[49m\u001b[43mfilename\u001b[49m\u001b[43m,\u001b[49m\u001b[43m \u001b[49m\u001b[38;5;124;43m\"\u001b[39;49m\u001b[38;5;124;43mwb\u001b[39;49m\u001b[38;5;124;43m\"\u001b[39;49m\u001b[43m,\u001b[49m\u001b[43m \u001b[49m\u001b[43mreturn_opened\u001b[49m\u001b[38;5;241;43m=\u001b[39;49m\u001b[38;5;28;43;01mTrue\u001b[39;49;00m\u001b[43m)\u001b[49m\n\u001b[1;32m    688\u001b[0m \u001b[38;5;28;01mif\u001b[39;00m \u001b[38;5;129;01mnot\u001b[39;00m opened:\n\u001b[1;32m    689\u001b[0m     \u001b[38;5;28;01mtry\u001b[39;00m:\n",
      "File \u001b[0;32m~/miniforge3/envs/iccd332/lib/python3.11/site-packages/matplotlib/cbook.py:546\u001b[0m, in \u001b[0;36mto_filehandle\u001b[0;34m(fname, flag, return_opened, encoding)\u001b[0m\n\u001b[1;32m    544\u001b[0m         fh \u001b[38;5;241m=\u001b[39m bz2\u001b[38;5;241m.\u001b[39mBZ2File(fname, flag)\n\u001b[1;32m    545\u001b[0m     \u001b[38;5;28;01melse\u001b[39;00m:\n\u001b[0;32m--> 546\u001b[0m         fh \u001b[38;5;241m=\u001b[39m \u001b[38;5;28;43mopen\u001b[39;49m\u001b[43m(\u001b[49m\u001b[43mfname\u001b[49m\u001b[43m,\u001b[49m\u001b[43m \u001b[49m\u001b[43mflag\u001b[49m\u001b[43m,\u001b[49m\u001b[43m \u001b[49m\u001b[43mencoding\u001b[49m\u001b[38;5;241;43m=\u001b[39;49m\u001b[43mencoding\u001b[49m\u001b[43m)\u001b[49m\n\u001b[1;32m    547\u001b[0m     opened \u001b[38;5;241m=\u001b[39m \u001b[38;5;28;01mTrue\u001b[39;00m\n\u001b[1;32m    548\u001b[0m \u001b[38;5;28;01melif\u001b[39;00m \u001b[38;5;28mhasattr\u001b[39m(fname, \u001b[38;5;124m'\u001b[39m\u001b[38;5;124mseek\u001b[39m\u001b[38;5;124m'\u001b[39m):\n",
      "\u001b[0;31mFileNotFoundError\u001b[0m: [Errno 2] No such file or directory: '/home/leningfe/PythonProjects/QuitoWeather/weather-site/content/images/temperature.pdf'"
     ]
    },
    {
     "data": {
      "image/png": "[encoded data removed]",
      "text/plain": [
       "<Figure size 800x600 with 1 Axes>"
      ]
     },
     "metadata": {},
     "output_type": "display_data"
    }
   ],
   "source": [
    "fig = plt.figure(figsize=(8,6))\n",
    "plt.plot(df_etl['dt'], df_etl['main_temp'])\n",
    "plt.grid()\n",
    "plt.title(f'Main Temp vs Time in {next(iter(set(df_etl.name)))}')\n",
    "fig.tight_layout()\n",
    "fname = '/home/leningfe/PythonProjects/QuitoWeather/weather-site/content/images/temperature.pdf'\n",
    "plt.savefig(fname)"
   ]
  },
  {
   "cell_type": "code",
   "execution_count": 34,
   "id": "c05ab530-f3eb-4295-be41-05d3836596f9",
   "metadata": {},
   "outputs": [
    {
     "ename": "ModuleNotFoundError",
     "evalue": "No module named 'seaborn'",
     "output_type": "error",
     "traceback": [
      "\u001b[0;31m---------------------------------------------------------------------------\u001b[0m",
      "\u001b[0;31mModuleNotFoundError\u001b[0m                       Traceback (most recent call last)",
      "Cell \u001b[0;32mIn[34], line 3\u001b[0m\n\u001b[1;32m      1\u001b[0m \u001b[38;5;66;03m#+begin_src python :results graphics file output :file boxplot.svg\u001b[39;00m\n\u001b[1;32m      2\u001b[0m \u001b[38;5;28;01mimport\u001b[39;00m\u001b[38;5;250m \u001b[39m\u001b[38;5;21;01mmatplotlib\u001b[39;00m\u001b[38;5;21;01m.\u001b[39;00m\u001b[38;5;21;01mpyplot\u001b[39;00m\u001b[38;5;250m \u001b[39m\u001b[38;5;28;01mas\u001b[39;00m\u001b[38;5;250m \u001b[39m\u001b[38;5;21;01mplt\u001b[39;00m\n\u001b[0;32m----> 3\u001b[0m \u001b[38;5;28;01mimport\u001b[39;00m\u001b[38;5;250m \u001b[39m\u001b[38;5;21;01mseaborn\u001b[39;00m\u001b[38;5;250m \u001b[39m\u001b[38;5;28;01mas\u001b[39;00m\u001b[38;5;250m \u001b[39m\u001b[38;5;21;01msns\u001b[39;00m\n\u001b[1;32m      4\u001b[0m plt\u001b[38;5;241m.\u001b[39mfigure(figsize\u001b[38;5;241m=\u001b[39m(\u001b[38;5;241m5\u001b[39m, \u001b[38;5;241m5\u001b[39m))\n\u001b[1;32m      5\u001b[0m tips \u001b[38;5;241m=\u001b[39m sns\u001b[38;5;241m.\u001b[39mload_dataset(\u001b[38;5;124m\"\u001b[39m\u001b[38;5;124mtips\u001b[39m\u001b[38;5;124m\"\u001b[39m)\n",
      "\u001b[0;31mModuleNotFoundError\u001b[0m: No module named 'seaborn'"
     ]
    }
   ],
   "source": [
    "#+begin_src python :results graphics file output :file boxplot.svg\n",
    "import matplotlib.pyplot as plt\n",
    "import seaborn as sns\n",
    "plt.figure(figsize=(5, 5))\n",
    "tips = sns.load_dataset(\"tips\")\n",
    "sns.boxplot(x=\"day\", y=\"tip\", data=tips)\n",
    "#+end_src"
   ]
  },
  {
   "cell_type": "code",
   "execution_count": null,
   "id": "9937b509-b418-471b-80d1-0a7a3e4992df",
   "metadata": {},
   "outputs": [],
   "source": []
  }
 ],
 "metadata": {
  "kernelspec": {
   "display_name": "Python 3 (ipykernel)",
   "language": "python",
   "name": "python3"
  },
  "language_info": {
   "codemirror_mode": {
    "name": "ipython",
    "version": 3
   },
   "file_extension": ".py",
   "mimetype": "text/x-python",
   "name": "python",
   "nbconvert_exporter": "python",
   "pygments_lexer": "ipython3",
   "version": "3.11.11"
  }
 },
 "nbformat": 4,
 "nbformat_minor": 5
}
